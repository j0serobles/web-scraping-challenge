{
 "cells": [
  {
   "cell_type": "code",
   "execution_count": 161,
   "metadata": {},
   "outputs": [],
   "source": [
    "# Import dependencies\n",
    "from splinter import Browser\n",
    "from bs4 import BeautifulSoup as bs\n",
    "import time\n",
    "from webdriver_manager.chrome import ChromeDriverManager\n",
    "import pandas as pd"
   ]
  },
  {
   "cell_type": "code",
   "execution_count": 162,
   "metadata": {},
   "outputs": [],
   "source": [
    "def initialize_browser():\n",
    "    # Returns a \"browser\" object that will be used for scraping sites. \n",
    "    executable_path = {'executable_path': ChromeDriverManager().install()}\n",
    "    browser = Browser('chrome', **executable_path, headless=False)\n",
    "    return browser"
   ]
  },
  {
   "cell_type": "code",
   "execution_count": 163,
   "metadata": {},
   "outputs": [],
   "source": [
    "def scrape_mars_info():\n",
    "\n",
    "    mars_url1 = \"https://mars.nasa.gov/news\"\n",
    "    mars_url2 = \"https://data-class-jpl-space.s3.amazonaws.com/JPL_Space/index.html\"\n",
    "    mars_url3 = \"http://space-facts.com/mars/\"\n",
    "    mars_url4 = \"https://astrogeology.usgs.gov/search/results?q=hemisphere+enhanced&k1=target&v1=Mars\"\n",
    "\n",
    "    mars_data = {}\n",
    "    \n",
    "    #init the browser\n",
    "    browser = initialize_browser()\n",
    "    \n",
    "    #Visit the first site and get the HTML\n",
    "    browser.visit(mars_url1)\n",
    "    \n",
    "    #Parse the HTML with BS\n",
    "    time.sleep(2) # Allow time for scraping and updating html variable\n",
    "    html = browser.html\n",
    "    soup = bs(html, \"html.parser\")\n",
    "    \n",
    "    # First list item with class=slide is the latest news\n",
    "    mars_news = soup.find_all(\"div\", attrs={\"class\":\"list_text\"})[0]\n",
    "    news_title = mars_news.find('a').text\n",
    "    news_p = mars_news.find(\"div\", attrs={\"class\":\"article_teaser_body\"}).text\n",
    "    mars_data['news_title'] = news_title\n",
    "    mars_data['news_p'] = news_p\n",
    "\n",
    "    \n",
    "    #Scrape the second URL\n",
    "    browser.visit(mars_url2)\n",
    "    time.sleep(2)\n",
    "    html = browser.html\n",
    "    soup = bs(html,\"html.parser\")\n",
    "    mars_img = soup.find(\"div\", attrs={\"class\":\"floating_text_area\"})\n",
    "    mars_img = mars_img.find(\"a\")['href']\n",
    "    featured_image_url = mars_url2.replace('index.html','') + mars_img\n",
    "    mars_data['featured_image_url'] = featured_image_url\n",
    "    \n",
    "    #Scrape the third URL with Pandas\n",
    "    print('Before read-html')\n",
    "    mars_df = pd.read_html(mars_url3, match=\"Equatorial Diameter\")[0]\n",
    "    #Rename the column labes in dataFrame\n",
    "    mars_df.rename(columns = {0 : 'Fact', 1 : 'Value'}, inplace = True)\n",
    "    mars_data['fact_table_html'] = mars_df.to_html()\n",
    "    \n",
    "    #Scrape the fourth URL\n",
    "    browser.visit(mars_url4)\n",
    "    time.sleep(2)\n",
    "    html = browser.html\n",
    "    soup = bs(html, \"html.parser\")\n",
    "    title_links = soup.find_all(\"a\", class_=\"itemLink\")\n",
    "    results_list = []\n",
    "    for theLink in title_links:\n",
    "        link_title = theLink.find(\"h3\")\n",
    "        if (not link_title):\n",
    "            continue\n",
    "        #get the link\n",
    "        a_link = theLink['href']\n",
    "        url = \"https://astrogeology.usgs.gov\" + a_link\n",
    "        browser.visit(url)\n",
    "        time.sleep(2)\n",
    "        html = browser.html\n",
    "        soup = bs(html, \"html.parser\")\n",
    "        download_div = soup.find(\"div\", class_ = \"downloads\")\n",
    "        full_img = download_div.find_all(\"li\")[0].find('a')['href']\n",
    "        results_list.append(dict({\"title\": link_title.text.replace(' Enhanced',''),\"img_url\":full_img}))\n",
    "\n",
    "        \n",
    "    browser.quit()\n",
    "    mars_data['himispheres'] = results_list\n",
    "    return(mars_data)"
   ]
  },
  {
   "cell_type": "code",
   "execution_count": 164,
   "metadata": {},
   "outputs": [
    {
     "output_type": "stream",
     "name": "stderr",
     "text": [
      "[WDM] - ====== WebDriver manager ======\n",
      "[WDM] - Current google-chrome version is 89.0.4389\n",
      "[WDM] - Get LATEST driver version for 89.0.4389\n",
      "\n",
      "\n",
      "[WDM] - Driver [C:\\Users\\joser\\.wdm\\drivers\\chromedriver\\win32\\89.0.4389.23\\chromedriver.exe] found in cache\n",
      "Before read-html\n",
      "link_title: None\n",
      "link_title: <h3>Cerberus Hemisphere Enhanced</h3>\n",
      "link_title: None\n",
      "link_title: <h3>Schiaparelli Hemisphere Enhanced</h3>\n",
      "link_title: None\n",
      "link_title: <h3>Syrtis Major Hemisphere Enhanced</h3>\n",
      "link_title: None\n",
      "link_title: <h3>Valles Marineris Hemisphere Enhanced</h3>\n",
      "{'news_title': 'Another First: Perseverance Captures the Sounds of Driving on Mars', 'news_p': 'NASA’s newest rover recorded audio of itself crunching over the surface of the Red Planet, adding a whole new dimension to Mars exploration.', 'featured_image_url': 'https://data-class-jpl-space.s3.amazonaws.com/JPL_Space/image/featured/mars3.jpg', 'fact_table_html': '<table border=\"1\" class=\"dataframe\">\\n  <thead>\\n    <tr style=\"text-align: right;\">\\n      <th></th>\\n      <th>Fact</th>\\n      <th>Value</th>\\n    </tr>\\n  </thead>\\n  <tbody>\\n    <tr>\\n      <th>0</th>\\n      <td>Equatorial Diameter:</td>\\n      <td>6,792 km</td>\\n    </tr>\\n    <tr>\\n      <th>1</th>\\n      <td>Polar Diameter:</td>\\n      <td>6,752 km</td>\\n    </tr>\\n    <tr>\\n      <th>2</th>\\n      <td>Mass:</td>\\n      <td>6.39 × 10^23 kg (0.11 Earths)</td>\\n    </tr>\\n    <tr>\\n      <th>3</th>\\n      <td>Moons:</td>\\n      <td>2 (Phobos &amp; Deimos)</td>\\n    </tr>\\n    <tr>\\n      <th>4</th>\\n      <td>Orbit Distance:</td>\\n      <td>227,943,824 km (1.38 AU)</td>\\n    </tr>\\n    <tr>\\n      <th>5</th>\\n      <td>Orbit Period:</td>\\n      <td>687 days (1.9 years)</td>\\n    </tr>\\n    <tr>\\n      <th>6</th>\\n      <td>Surface Temperature:</td>\\n      <td>-87 to -5 °C</td>\\n    </tr>\\n    <tr>\\n      <th>7</th>\\n      <td>First Record:</td>\\n      <td>2nd millennium BC</td>\\n    </tr>\\n    <tr>\\n      <th>8</th>\\n      <td>Recorded By:</td>\\n      <td>Egyptian astronomers</td>\\n    </tr>\\n  </tbody>\\n</table>', 'himispheres': [{'title': 'Cerberus Hemisphere', 'img_url': 'https://astropedia.astrogeology.usgs.gov/download/Mars/Viking/cerberus_enhanced.tif/full.jpg'}, {'title': 'Schiaparelli Hemisphere', 'img_url': 'https://astropedia.astrogeology.usgs.gov/download/Mars/Viking/schiaparelli_enhanced.tif/full.jpg'}, {'title': 'Syrtis Major Hemisphere', 'img_url': 'https://astropedia.astrogeology.usgs.gov/download/Mars/Viking/syrtis_major_enhanced.tif/full.jpg'}, {'title': 'Valles Marineris Hemisphere', 'img_url': 'https://astropedia.astrogeology.usgs.gov/download/Mars/Viking/valles_marineris_enhanced.tif/full.jpg'}]}\n"
     ]
    }
   ],
   "source": [
    "if __name__ == \"__main__\":\n",
    "    results = scrape_mars_info()\n",
    "    print(results)"
   ]
  },
  {
   "cell_type": "code",
   "execution_count": null,
   "metadata": {},
   "outputs": [],
   "source": []
  }
 ],
 "metadata": {
  "kernelspec": {
   "name": "python3",
   "display_name": "Python 3.6.10 64-bit ('PythonData': conda)",
   "metadata": {
    "interpreter": {
     "hash": "392fe2a3b756cdb434a33b5de82d09b24354210a6048f6c2c4d962ce950de643"
    }
   }
  },
  "language_info": {
   "codemirror_mode": {
    "name": "ipython",
    "version": 3
   },
   "file_extension": ".py",
   "mimetype": "text/x-python",
   "name": "python",
   "nbconvert_exporter": "python",
   "pygments_lexer": "ipython3",
   "version": "3.6.10-final"
  }
 },
 "nbformat": 4,
 "nbformat_minor": 4
}